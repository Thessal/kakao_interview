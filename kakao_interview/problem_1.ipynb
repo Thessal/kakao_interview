{
 "cells": [
  {
   "cell_type": "markdown",
   "metadata": {},
   "source": [
    "### Summary\n",
    "\n",
    "**독립변수와 종속변수가 범주형 데이터(거절/종종/항상,사용함/안함)에 가깝기 때문에 카이제곱검정을 사용하였다.  \n",
    "카이제곱검정후 상관관계의 방향성을 판단하기 위해 pearson coefficient를 계산하였다.**\n",
    "\n",
    "이용도에 따라 사용율에 연관성이 있는지 검정하기 위하여 카이제곱 검정을 실시한 결과,   \n",
    "귀무가설에 대한 chi2 = 474.2942, p = 0.0000 로 유의수준 0.05보다 작으므로 귀무가설을 기각한다.  \n",
    "즉, **이용도는 사용율에 영향을 준다** \n",
    "\n",
    "범주형 데이터에 대해 pearson coefficient를 계산하여 양의 상관관계(0.0301)을 얻었다.  \n",
    "따라서 **더치페이 요청에 대한 응답률이 높을수록 더치페이 서비스를 더 많이 사용한다.**\n",
    "\n",
    "추후 분석 및 검증을 위해 더미 변수도 정의하였다."
   ]
  },
  {
   "cell_type": "markdown",
   "metadata": {},
   "source": [
    "## 데이터 로드"
   ]
  },
  {
   "cell_type": "code",
   "execution_count": 1,
   "metadata": {},
   "outputs": [
    {
     "name": "stdout",
     "output_type": "stream",
     "text": [
      "Index(['claim_detail_id', 'claim_id', 'recv_user_id', 'claim_amount',\n",
      "       'send_amount', 'status', 'claim_at', 'claim_user_id'],\n",
      "      dtype='object')\n",
      " => 데이터 로드했음.\n",
      "\n"
     ]
    }
   ],
   "source": [
    "import pandas as pd \n",
    "def conclusion(text):\n",
    "    print(' => '+text+'\\n')\n",
    "\n",
    "def hist_text(series,left=0,right=1,bins=10):\n",
    "    print(series.groupby(pd.cut(series, [(x/bins)*(right-left)+left for x in range(bins+1)],include_lowest=True)).count())\n",
    "\n",
    "path = 'data/DS_사전과제_v2/'\n",
    "df_c = pd.read_csv(path+'dutchpay_claim.csv')\n",
    "df_c_det = pd.read_csv(path+'dutchpay_claim_detail.csv')\n",
    "df_all = df_c_det.join(df_c.set_index('claim_id'), on='claim_id', how='left', sort=True)\n",
    "df_all['claim_at'] = pd.to_datetime(df_all.claim_at)\n",
    "\n",
    "print(df_all.columns)\n",
    "conclusion(f'데이터 로드했음.')"
   ]
  },
  {
   "cell_type": "markdown",
   "metadata": {},
   "source": [
    "## 전처리"
   ]
  },
  {
   "cell_type": "code",
   "execution_count": 2,
   "metadata": {
    "scrolled": false
   },
   "outputs": [
    {
     "name": "stdout",
     "output_type": "stream",
     "text": [
      " => 데이터 전처리. 159194행 중 3191행 (2%) 삭제됨.\n",
      "\n",
      "                 응답했던회수  응답안한회수   총회수       응답률\n",
      "0001d33a536909b     1.0     2.0   3.0  0.333333\n",
      "00020ba234abeaa     1.0     0.0   1.0  1.000000\n",
      "0002cc3ae65fb5f     1.0     0.0   1.0  1.000000\n",
      "0002f62e023caed     7.0     0.0   7.0  1.000000\n",
      "00062c986178176     1.0     0.0   1.0  1.000000\n",
      "...                 ...     ...   ...       ...\n",
      "fffed49a18928b1     0.0     1.0   1.0  0.000000\n",
      "fffeed613386500     0.0     1.0   1.0  0.000000\n",
      "fffef842c35250b     0.0     1.0   1.0  0.000000\n",
      "ffff6b7cec134f4     0.0     1.0   1.0  0.000000\n",
      "fffff6ee97fbe6b     0.0    10.0  10.0  0.000000\n",
      "\n",
      "[197474 rows x 4 columns]\n",
      " => 응답회수 집계함.\n",
      "\n"
     ]
    }
   ],
   "source": [
    "orig_size = len(df_c)#+len(df_c_det)\n",
    "# 더치페이 요청 테이블 필터링 (자신에게만 더치페이 요청하는 경우 제외)\n",
    "recv_count = df_c_det[df_c_det.status!='CHECK'].groupby('claim_id').count()['claim_detail_id']\n",
    "valid_claim_ids = recv_count[recv_count>0].index\n",
    "df_c = df_c[df_c.claim_id.isin(valid_claim_ids)]\n",
    "# 더치페이 요청 상세 테이블 필터링 (0원 요청받은 경우 송금이 불가능 하기 때문에 제외)\n",
    "df_c_det = df_c_det[df_c_det.claim_amount>0]\n",
    "new_size = len(df_c)#+len(df_c_det)\n",
    "# 추후 중복 데이터도 확인해보고 제거하면 좋을 것 같다.\n",
    "conclusion(f'데이터 전처리. {orig_size}행 중 {orig_size-new_size}행 ({int(100*(1-new_size/orig_size))}%) 삭제됨.')\n",
    "\n",
    "df_응답률 = pd.concat({\n",
    "    '응답했던회수':df_c_det[df_c_det.status=='SEND'][['recv_user_id','claim_id']].groupby('recv_user_id').count()['claim_id'],\n",
    "    '응답안한회수':df_c_det[df_c_det.status=='CLAIM'][['recv_user_id','claim_id']].groupby('recv_user_id').count()['claim_id'],\n",
    "},axis=1)\n",
    "df_응답률.fillna(0,inplace=True)\n",
    "df_응답률['총회수'] = df_응답률.응답했던회수 + df_응답률.응답안한회수\n",
    "df_응답률['응답률'] = df_응답률.응답했던회수 / df_응답률.총회수\n",
    "print(df_응답률)\n",
    "conclusion('''응답회수 집계함.''')\n",
    "\n",
    "# conclusion('''총회수 자체가 작기 때문에 총회수 3 이하의 데이터를 제거하겠다.\n",
    "# 총회수가 작은 경우 중요도에 비해 응답률이 너무 극단적이기 때문이다.\n",
    "# 3을 선택한 이유는 추후 카테고리를 3개로 나눌 생각인데, 0.333 같이 경계에 걸리는 값을 없애기 위히서다.\n",
    "# [주의] 총회수에 의한 selection bias를 추가하고 있다''')\n",
    "# df_응답률 = df_응답률[df_응답률.총회수>3]\n",
    "# print(df_응답률)"
   ]
  },
  {
   "cell_type": "markdown",
   "metadata": {},
   "source": [
    "## 독립변수 설정"
   ]
  },
  {
   "cell_type": "code",
   "execution_count": 3,
   "metadata": {},
   "outputs": [
    {
     "name": "stdout",
     "output_type": "stream",
     "text": [
      "히스토그램 출력\n",
      "응답률\n",
      "(-0.001, 0.1]    121279\n",
      "(0.1, 0.2]          160\n",
      "(0.2, 0.3]          267\n",
      "(0.3, 0.4]          748\n",
      "(0.4, 0.5]         3876\n",
      "(0.5, 0.6]          266\n",
      "(0.6, 0.7]         1632\n",
      "(0.7, 0.8]         1592\n",
      "(0.8, 0.9]         1068\n",
      "(0.9, 1.0]        66586\n",
      "Name: 응답률, dtype: int64\n",
      " => 데이터 분포가 multimodal이다. 모르는 변수가 있는 것 같다.\n",
      "\n",
      "(1)중복 데이터, (2)노이즈, (3)모집단의 bias등 여러가지 가능성이 있다.\n",
      "문제가 발견되지 않는다면 고객이 실제로 이렇게 행동한다고 보고 적절한 모델을 생각해야 한다.\n",
      "\n",
      "(1) 예를 들어 첫 송금시 여러 차례 중복 기록이 될 수도 있을 것이다. 그렇다면 신규 유입이 많아서 일어나는 현상이라고 해석할 수 있을 것이다.\n",
      "그러나 중복 데이터라고 하기에는 신규 유입과 기존 고객간 송금 금액 편차 특성이 그렇게까지 극단적이지는 않다.\n",
      "(각각 24951.58, 18819.59).\n",
      "\n",
      "(2) 예를 들어 탈퇴회원이 문제라면 거절하는 시점에 패턴이 보여야 할텐데 그렇지 않았다.\n",
      "봇등은 항상 극단적인 응답률을 보일 수 있다. 그러나 요청 금액과 맞지 않는 금액을 송금한 경우나 자주 송금한 경우는 적었다.\n",
      "\n",
      "(3) 2019-12-01 - 2020-02-29 기간내에 최소 1회 더치페이 요청을 받아 본 사람을 대상으로 데이터가 주어졌다.\n",
      "random sampling이 아니므로, 만약 '더이페이 요청을 받는 빈도'와 '응답률'이 독립이 아니라면 잘못된 모집단 설정이다.\n",
      "예를 들어, 차단 시스템이나 자동 수락 같은 시스템이 있다면, 당연히 더치페이 요청을 자주 받는 사람들은 극단적인 응답률을 보일 수 밖에 없다.\n",
      "이 문제를 부분적으로 보강하려면, 더치페이 요청을 자주 받는 사람들과 그렇지 않은 사람들을 구분해서 각각에 대해 가설 검정을 하고, 결과가 일관성있게 나옴을 확인할 수 있다.\n",
      "\n",
      "\n",
      "데이터 분포 좀더 자세히 관찰 (구간별로 잘라보기)\n",
      "총회수 [1,1]\n",
      "응답률\n",
      "(-0.001, 0.2]    82373\n",
      "(0.2, 0.4]           0\n",
      "(0.4, 0.6]           0\n",
      "(0.6, 0.8]           0\n",
      "(0.8, 1.0]       44416\n",
      "Name: 응답률, dtype: int64\n",
      "총회수 (1,5]\n",
      "응답률\n",
      "(-0.001, 0.2]    33497\n",
      "(0.2, 0.4]         880\n",
      "(0.4, 0.6]        3904\n",
      "(0.6, 0.8]        2663\n",
      "(0.8, 1.0]       19130\n",
      "Name: 응답률, dtype: int64\n",
      "총회수 (5,10]\n",
      "응답률\n",
      "(-0.001, 0.2]    4027\n",
      "(0.2, 0.4]        103\n",
      "(0.4, 0.6]        193\n",
      "(0.6, 0.8]        428\n",
      "(0.8, 1.0]       2871\n",
      "Name: 응답률, dtype: int64\n",
      "총회수 (10,inf)\n",
      "응답률\n",
      "(-0.001, 0.2]    1542\n",
      "(0.2, 0.4]         32\n",
      "(0.4, 0.6]         45\n",
      "(0.6, 0.8]        133\n",
      "(0.8, 1.0]       1237\n",
      "Name: 응답률, dtype: int64\n",
      " => '총회수'에 의해 '응답률간'의 분포 모양 자체가 바뀔 정도의 변화가 보이지는 않는다.\n",
      "만약 특정 '총회수' 구간에서만 node가 보였다면, 그 데이터를 잘라서 따로 분석할 수 있었을 것이다.\n",
      "\n",
      " => [독립변수] X : 고객의 성향을 통해 측정한 더치페이 응답률. [항상, 종종, 절대] 세개의 구간으로 나눈 카테고리 데이터.\n",
      "\n"
     ]
    }
   ],
   "source": [
    "print('히스토그램 출력')\n",
    "#df_응답률.응답률.hist()\n",
    "hist_text(df_응답률.응답률, bins=10)\n",
    "conclusion(f'''데이터 분포가 multimodal이다. 모르는 변수가 있는 것 같다.\n",
    "\n",
    "(1)중복 데이터, (2)노이즈, (3)모집단의 bias등 여러가지 가능성이 있다.\n",
    "문제가 발견되지 않는다면 고객이 실제로 이렇게 행동한다고 보고 적절한 모델을 생각해야 한다.\n",
    "\n",
    "(1) 예를 들어 첫 송금시 여러 차례 중복 기록이 될 수도 있을 것이다. 그렇다면 신규 유입이 많아서 일어나는 현상이라고 해석할 수 있을 것이다.\n",
    "그러나 중복 데이터라고 하기에는 신규 유입과 기존 고객간 송금 금액 편차 특성이 그렇게까지 극단적이지는 않다.\n",
    "(각각 {\n",
    "df_all[df_all.recv_user_id.isin(df_응답률[df_응답률.총회수<=5].index)].groupby('recv_user_id')['claim_amount'].std().mean()\n",
    ":.2f}, {\n",
    "df_all[df_all.recv_user_id.isin(df_응답률[df_응답률.총회수>5].index)].groupby('recv_user_id')['claim_amount'].std().mean()\n",
    ":.2f}).\n",
    "\n",
    "(2) 예를 들어 탈퇴회원이 문제라면 거절하는 시점에 패턴이 보여야 할텐데 그렇지 않았다.\n",
    "봇등은 항상 극단적인 응답률을 보일 수 있다. 그러나 요청 금액과 맞지 않는 금액을 송금한 경우나 자주 송금한 경우는 적었다.\n",
    "\n",
    "(3) {df_all.claim_at.min().strftime('%Y-%m-%d')} - {df_all.claim_at.max().strftime('%Y-%m-%d')} 기간내에 최소 1회 더치페이 요청을 받아 본 사람을 대상으로 데이터가 주어졌다.\n",
    "random sampling이 아니므로, 만약 \\'더이페이 요청을 받는 빈도\\'와 \\'응답률\\'이 독립이 아니라면 잘못된 모집단 설정이다.\n",
    "예를 들어, 차단 시스템이나 자동 수락 같은 시스템이 있다면, 당연히 더치페이 요청을 자주 받는 사람들은 극단적인 응답률을 보일 수 밖에 없다.\n",
    "이 문제를 부분적으로 보강하려면, 더치페이 요청을 자주 받는 사람들과 그렇지 않은 사람들을 구분해서 각각에 대해 가설 검정을 하고, 결과가 일관성있게 나옴을 확인할 수 있다.\n",
    "''')\n",
    "\n",
    "print('데이터 분포 좀더 자세히 관찰 (구간별로 잘라보기)')\n",
    "print('총회수 [1,1]')\n",
    "hist_text(df_응답률[df_응답률.총회수==1].응답률, left=0, right=1, bins=5)\n",
    "print('총회수 (1,5]')\n",
    "hist_text(df_응답률[(1<df_응답률.총회수)&(df_응답률.총회수<=5)].응답률, left=0, right=1, bins=5)\n",
    "print('총회수 (5,10]')\n",
    "hist_text(df_응답률[(5<df_응답률.총회수)&(df_응답률.총회수<=10)].응답률, left=0, right=1, bins=5)\n",
    "print('총회수 (10,inf)')\n",
    "hist_text(df_응답률[(10<df_응답률.총회수)].응답률, left=0, right=1, bins=5)\n",
    "\n",
    "conclusion('''\\'총회수\\'에 의해 \\'응답률간\\'의 분포 모양 자체가 바뀔 정도의 변화가 보이지는 않는다.\n",
    "만약 특정 \\'총회수\\' 구간에서만 node가 보였다면, 그 데이터를 잘라서 따로 분석할 수 있었을 것이다.''')\n",
    "\n",
    "conclusion('[독립변수] X : 고객의 성향을 통해 측정한 더치페이 응답률. [항상, 종종, 절대] 세개의 구간으로 나눈 카테고리 데이터.')"
   ]
  },
  {
   "cell_type": "markdown",
   "metadata": {},
   "source": [
    "## 종속변수 설정"
   ]
  },
  {
   "cell_type": "code",
   "execution_count": 4,
   "metadata": {},
   "outputs": [
    {
     "name": "stdout",
     "output_type": "stream",
     "text": [
      "(-0.001, 12.0]    236423\n",
      "(12.0, 24.0]        1339\n",
      "(24.0, 36.0]         256\n",
      "(36.0, 48.0]          60\n",
      "(48.0, 60.0]          16\n",
      "(60.0, 72.0]           3\n",
      "(72.0, 84.0]           4\n",
      "(84.0, 96.0]           0\n",
      "(96.0, 108.0]          1\n",
      "(108.0, 120.0]         2\n",
      "dtype: int64\n",
      "          0      ref\n",
      "0  186147.0      NaN\n",
      "1   25867.0  26000.0\n",
      "2    9326.0   9192.0\n",
      "3    4990.0   5003.0\n",
      "4    2995.0   3250.0\n",
      " => -1.5승 polinomial distribution을 따르는 것 같다. transform 하기에는 너무 skew 되어 있음\n",
      "\n",
      " => [종속변수] Y : 기간 내 더치페이를 요청한 적이 있는지 여부를 통해 측정한 더치페이 이용도. 카테고리 데이터.\n",
      "\n"
     ]
    }
   ],
   "source": [
    "df_더치사용횟수 = df_c.groupby('claim_user_id')['claim_id'].count()\n",
    "df_더치사용안함 = pd.Series(0, index= list(set(df_c_det.recv_user_id.unique())-set(df_c.claim_user_id.unique())))\n",
    "df_더치사용 = pd.concat([ df_더치사용횟수, df_더치사용안함 ])\n",
    "hist_text(df_더치사용, left=0, right=df_더치사용.max())\n",
    "\n",
    "df = pd.concat([\n",
    "    df_더치사용.value_counts().sort_index(),\n",
    "    pd.Series([int(26000*x**-1.5) for x in range(1,120)], index=range(1,120)).rename('ref')\n",
    "],axis=1)\n",
    "print(df.head())\n",
    "conclusion('-1.5승 polinomial distribution을 따르는 것 같다. transform 하기에는 너무 skew 되어 있음')\n",
    "\n",
    "conclusion('[종속변수] Y : 기간 내 더치페이를 요청한 적이 있는지 여부를 통해 측정한 더치페이 이용도. 카테고리 데이터.')"
   ]
  },
  {
   "cell_type": "markdown",
   "metadata": {},
   "source": [
    "### 문제 정의"
   ]
  },
  {
   "cell_type": "code",
   "execution_count": 5,
   "metadata": {},
   "outputs": [
    {
     "name": "stdout",
     "output_type": "stream",
     "text": [
      " => \n",
      "독립변수와 종속변수가 범주형 데이터이기 때문에 카이제곱검정을 사용하겠다.\n",
      "\n",
      " => \n",
      "[모집단] 주어진 기간 내에 더치페이 요청을 받아본 사람 (요청을 하기만 하고 받지 않은 사람은 응답률을 정의할 수 없어서 제외)\n",
      "[독립변수] X : 더치페이 응답률. [항상, 종종, 절대]\n",
      "[종속변수] Y : 더치페이 이용도. [더치사용, 사용안함]\n",
      "\n",
      " => \n",
      "[통계기법 1] : X와 Y의 관계 여부를 알아보기 위해 카이제곱 검정 이용\n",
      "H0 : 응답률와 이용도는 독립이다\n",
      "H1 : 응답률에 따라 이용도에 차이가 있다\n",
      "유의수준 : 0.05\n",
      "\n",
      " => \n",
      "[통계기법 2] : X와 Y간의 상관관계가 있다면, 방향을 파악하기 위해 phi coefficient(=pearson correlation) 계산\n",
      "\n"
     ]
    }
   ],
   "source": [
    "conclusion('''\n",
    "독립변수와 종속변수가 범주형 데이터이기 때문에 카이제곱검정을 사용하겠다.''')\n",
    "conclusion('''\n",
    "[모집단] 주어진 기간 내에 더치페이 요청을 받아본 사람 (요청을 하기만 하고 받지 않은 사람은 응답률을 정의할 수 없어서 제외)\n",
    "[독립변수] X : 더치페이 응답률. [항상, 종종, 절대]\n",
    "[종속변수] Y : 더치페이 이용도. [더치사용, 사용안함]''')\n",
    "conclusion('''\n",
    "[통계기법 1] : X와 Y의 관계 여부를 알아보기 위해 카이제곱 검정 이용\n",
    "H0 : 응답률와 이용도는 독립이다\n",
    "H1 : 응답률에 따라 이용도에 차이가 있다\n",
    "유의수준 : 0.05''')\n",
    "# print('중심극한정리')\n",
    "# from scipy import stats\n",
    "# Xs_of_random_subset = [df_응답률.sample(frac=0.1).응답률.map(lambda x:x>0).sum() for tmp in range(1000)]\n",
    "# print(stats.shapiro(Xs_of_random_subset))\n",
    "# conclusion('무작위 샘플링을 하면 항상 정규분포가 나오므로. 카이제곱을 사용할 수 있다.')\n",
    "conclusion('''\n",
    "[통계기법 2] : X와 Y간의 상관관계가 있다면, 방향을 파악하기 위해 phi coefficient(=pearson correlation) 계산''')"
   ]
  },
  {
   "cell_type": "markdown",
   "metadata": {},
   "source": [
    "### 카이제곱 검정"
   ]
  },
  {
   "cell_type": "code",
   "execution_count": 6,
   "metadata": {},
   "outputs": [
    {
     "name": "stdout",
     "output_type": "stream",
     "text": [
      "분할표\n",
      "                절대            항상             종종             합계\n",
      "더치사용   4711.000000   1079.000000    6889.000000   12679.000000\n",
      "더치안함  61443.000000   8984.000000  114368.000000  184795.000000\n",
      "합계    66154.000000  10063.000000  121257.000000  197474.000000\n",
      "비율        0.071213      0.107224       0.056813       0.064206\n",
      " => 분할표를 작성하였다\n",
      "\n",
      "expected: [[  4247.47848324    646.1041808    7785.41733595]\n",
      " [ 61906.52151676   9416.8958192  113471.58266405]]\n",
      "chi2: 474.2942,\n",
      "p: 0.0000\n",
      "dof: 2.0000\n",
      "Phi coefficient(binary pearson) = 0.0286 (응답률 '종종'을 제외)\n",
      "pearson coefficient: 0.0301 ('항상'=1, '종종'=0, '절대'=-1)\n",
      " => 이용도에 따라 사용율에 연관성이 있는지 검정하기 위하여 카이제곱 검정을 실시한 결과, \n",
      "귀무가설에 대한 chi2 = 474.2942, p = 1.02e-103 로 유의수준 0.05보다 작으므로 귀무가설을 기각한다.\n",
      "즉, 이용도는 사용율에 영향을 준다.\n",
      "범주형 데이터에 대해 pearson coefficient를 계산하여 양의 상관관계(0.0301)을 얻었다.\n",
      "따라서 더치페이 요청에 대한 응답률이 높을수록 더치페이 서비스를 더 많이 사용한다.\n",
      "\n"
     ]
    }
   ],
   "source": [
    "from scipy.stats import chi2_contingency\n",
    "import numpy as np\n",
    "\n",
    "def df_pretty_print(df):\n",
    "    df_print = df.copy()\n",
    "    df_print['합계'] = df_print.sum(axis=1)\n",
    "    df_print = df_print.T\n",
    "    df_print['합계'] = df_print.sum(axis=1)\n",
    "    df_print['비율'] = df_print['더치사용']/df_print['합계']\n",
    "    df_print = df_print.T\n",
    "    pd.options.display\n",
    "    print(df_print)\n",
    "\n",
    "cond_필터 = (df_응답률.총회수>0)\n",
    "\n",
    "cond_항상 = (df_응답률.응답률==1.0)\n",
    "cond_종종 = (0.0<df_응답률.응답률) & (df_응답률.응답률<1.0)\n",
    "cond_절대 = (0.0==df_응답률.응답률)\n",
    "\n",
    "uid_항상 = set( df_응답률[ cond_필터 & cond_항상 ].index )\n",
    "uid_종종 = set( df_응답률[ cond_필터 & cond_종종 ].index )\n",
    "uid_절대 = set( df_응답률[ cond_필터 & cond_절대 ].index )\n",
    "\n",
    "uid_더치사용 = set( df_c.claim_user_id )\n",
    "\n",
    "print('분할표')\n",
    "df = pd.DataFrame( \n",
    "    [\n",
    "        [len(uid_항상 & uid_더치사용),len(uid_종종 & uid_더치사용),len(uid_절대 & uid_더치사용)],\n",
    "        [len(uid_항상 - uid_더치사용),len(uid_종종 - uid_더치사용),len(uid_절대 - uid_더치사용)],\n",
    "    ], \n",
    "    columns=['절대', '항상', '종종'],\n",
    "    index=['더치사용', '더치안함']\n",
    ")\n",
    "df_pretty_print(df[['절대', '항상', '종종']])\n",
    "conclusion('분할표를 작성하였다')\n",
    "\n",
    "\n",
    "chi2, p, dof, expctd = chi2_contingency(df[['절대', '항상', '종종']])\n",
    "\n",
    "print(f'''expected: {expctd}\n",
    "chi2: {chi2:.4f},\n",
    "p: {p:.4f}\n",
    "dof: {dof:.4f}''')\n",
    "\n",
    "phi =  \\\n",
    "(df.values[0,0]*df.values[1,2] - df.values[0,2]*df.values[1,0]) \\\n",
    "/(df.values[0,0]+df.values[0,2])**0.5 \\\n",
    "/(df.values[1,0]+df.values[1,2])**0.5 \\\n",
    "/(df.values[0,0]+df.values[1,0])**0.5 \\\n",
    "/(df.values[0,2]+df.values[1,2])**0.5 \n",
    "\n",
    "df_pearson = pd.DataFrame(index=df_응답률.index)\n",
    "df_pearson['응답률'] = cond_항상*1 + cond_절대*0\n",
    "df_pearson['사용률'] = df_pearson.index.isin(uid_더치사용)*1\n",
    "df_pearson = df_pearson[cond_종종 == False]\n",
    "pearson_binary = df_pearson.corr().values[0,1]\n",
    "\n",
    "df_pearson = pd.DataFrame(index=df_응답률.index)\n",
    "df_pearson['응답률'] = cond_항상*1 + cond_절대*(-1) + cond_종종*0\n",
    "df_pearson['사용률'] = df_pearson.index.isin(uid_더치사용)*1\n",
    "pearson = df_pearson.corr().values[0,1]\n",
    "\n",
    "print(f'''Phi coefficient(binary pearson) = {phi:.4f} (응답률 \\'종종\\'을 제외)\n",
    "pearson coefficient: {pearson:.4f} (\\'항상\\'=1, \\'종종\\'=0, \\'절대\\'=-1)''')\n",
    "\n",
    "conclusion(f'''이용도에 따라 사용율에 연관성이 있는지 검정하기 위하여 카이제곱 검정을 실시한 결과, \n",
    "귀무가설에 대한 chi2 = {chi2:.4f}, p = {p:.2e} 로 유의수준 0.05보다 작으므로 귀무가설을 기각한다.\n",
    "즉, 이용도는 사용율에 영향을 준다.\n",
    "범주형 데이터에 대해 pearson coefficient를 계산하여 양의 상관관계({pearson:.4f})을 얻었다.\n",
    "따라서 더치페이 요청에 대한 응답률이 높을수록 더치페이 서비스를 더 많이 사용한다.''')\n",
    "\n",
    "cond_더미1 = (df_응답률.index.map(lambda x:x[-1]<'8').values)\n",
    "cond_더미2 = (df_응답률.index.map(lambda x:x[-2]<'4').values)\n",
    "cond_더미3 = (df_응답률.index.map(lambda x:x[-3]<'2').values)\n",
    "\n",
    "uid_더미1 = set( df_응답률[ cond_필터 & cond_더미1 ].index )\n",
    "uid_더미2 = set( df_응답률[ cond_필터 & cond_더미2 ].index )\n",
    "uid_더미3 = set( df_응답률[ cond_필터 & cond_더미3 ].index )\n",
    "\n",
    "uid_더치사용 = set( df_c.claim_user_id )\n",
    "df = pd.DataFrame( \n",
    "    [\n",
    "        [len(uid_더미1 & uid_더치사용),len(uid_더미2 & uid_더치사용),len(uid_더미3 & uid_더치사용)],\n",
    "        [len(uid_더미1 - uid_더치사용),len(uid_더미2 - uid_더치사용),len(uid_더미3 - uid_더치사용)],\n",
    "    ], \n",
    "    columns=['더미1', '더미2', '더미3'],\n",
    "    index=['더치사용', '더치안함']\n",
    ")\n",
    "\n",
    "chi2, p, dof, expctd = chi2_contingency(df[['더미1', '더미2', '더미3']])\n",
    "#conclusion(f'''추후 분석을 위해 더미 변수를 정의하였다.''')"
   ]
  },
  {
   "cell_type": "markdown",
   "metadata": {},
   "source": [
    "## Appendix\n",
    "### Data Inspection"
   ]
  },
  {
   "cell_type": "code",
   "execution_count": 7,
   "metadata": {},
   "outputs": [],
   "source": [
    "import pandas as pd\n",
    "\n",
    "path = 'data/DS_사전과제_v2/'\n",
    "df_c = pd.read_csv(path+'dutchpay_claim.csv')\n",
    "df_c_det = pd.read_csv(path+'dutchpay_claim_detail.csv')\n",
    "df_all = df_c_det.join(df_c.set_index('claim_id'), on='claim_id', how='left', sort=True)\n",
    "\n",
    "def test(question, df):\n",
    "    print(f'{question} ... {\"YES\" if df.size>0 else \"NO\"}')\n",
    "\n",
    "def conclusion(text):\n",
    "    print(' => '+text+'\\n')"
   ]
  },
  {
   "cell_type": "code",
   "execution_count": 8,
   "metadata": {},
   "outputs": [
    {
     "name": "stdout",
     "output_type": "stream",
     "text": [
      "Users can request or send negative amount ... NO\n",
      " => 음수 송금은 불가능\n",
      "\n",
      "Request to self and pay manually ... NO\n",
      " => 더치페이 요청할 때 자신을 넣으면 항상 send_amount=claim_amount로 자동 처리된다.\n",
      "\n",
      "Users can make request with claim_amount=0 ... YES\n",
      "claim_user can send_amount==0 ... YES\n",
      "recv_user can send_amount==0 ... NO\n",
      " => 0원 더치페이 요청은 가능하지만 0원 송금은 불가능하다. 자기 자신인 경우 자동 처리되는 경우 예외.\n",
      "\n",
      "Data contains non-dutchpay transfer cases ... NO\n",
      "Users can send less than claim_amount ... YES\n",
      "Users can send more than claim_amount ... YES\n",
      " => 요청 금액과 송금 금액이 다를 수 있다\n",
      "\n"
     ]
    }
   ],
   "source": [
    "# Number logic check\n",
    "df = df_c_det.set_index(['claim_id','claim_detail_id'])\n",
    "\n",
    "test('Users can request or send negative amount', df[(df.claim_amount<0) | (df.send_amount<0)])\n",
    "conclusion('음수 송금은 불가능')\n",
    "\n",
    "test('Request to self and pay manually', df_all[(df_all.recv_user_id == df_all.claim_user_id) & (df_all.send_amount!=df_all.claim_amount)])\n",
    "conclusion('더치페이 요청할 때 자신을 넣으면 항상 send_amount=claim_amount로 자동 처리된다.')\n",
    "\n",
    "test('Users can make request with claim_amount=0', df[df.claim_amount==0])\n",
    "test('claim_user can send_amount==0', df_all[ (df_all.recv_user_id == df_all.claim_user_id) & (df_all.send_amount==0) ] )\n",
    "test('recv_user can send_amount==0', df_all[ (df_all.recv_user_id != df_all.claim_user_id) & (df_all.send_amount==0) ] )\n",
    "conclusion('0원 더치페이 요청은 가능하지만 0원 송금은 불가능하다. 자기 자신인 경우 자동 처리되는 경우 예외.')\n",
    "\n",
    "test('Data contains non-dutchpay transfer cases', df[df.send_amount.notna() & df.claim_amount.isna()])\n",
    "test('Users can send less than claim_amount', df[df.send_amount<df.claim_amount])\n",
    "test('Users can send more than claim_amount', df[df.send_amount>df.claim_amount])\n",
    "conclusion('요청 금액과 송금 금액이 다를 수 있다')\n"
   ]
  },
  {
   "cell_type": "code",
   "execution_count": 9,
   "metadata": {},
   "outputs": [
    {
     "name": "stdout",
     "output_type": "stream",
     "text": [
      "Status='CHECK' logic ... True\n",
      "Status='CLAIM' logic ... True\n",
      "Status='SEND' logic ... True\n",
      " => CHECK는 더치페이 제안한 사람이 스스로를 지목한 경우, CLAIM은 지목받고 결제 안 한 경우, SEND는 0원 이상 송금한 사람을 의미한다\n",
      "\n"
     ]
    }
   ],
   "source": [
    "# Status logic check\n",
    "df = df_all\n",
    "print( 'Status=\\'CHECK\\' logic ...', (df.status=='CHECK').equals( df.recv_user_id==df.claim_user_id) ) # dutchpay maker\n",
    "print( 'Status=\\'CLAIM\\' logic ...', (df.status=='CLAIM').equals( df.send_amount.isna() ) ) # dutchpay potential taker\n",
    "print( 'Status=\\'SEND\\' logic ...', (df.status=='SEND').equals( df.send_amount.notna() & (df.status!='CHECK') ) ) # dutchpay taker\n",
    "conclusion('CHECK는 더치페이 제안한 사람이 스스로를 지목한 경우, CLAIM은 지목받고 결제 안 한 경우, SEND는 0원 이상 송금한 사람을 의미한다')"
   ]
  },
  {
   "cell_type": "code",
   "execution_count": 10,
   "metadata": {},
   "outputs": [
    {
     "name": "stdout",
     "output_type": "stream",
     "text": [
      "1-1 relationship of claim_id ... False\n",
      "Sometimes, base info exists but there's no detail info ... YES\n",
      "Sometimes, detail info exists but there's no base info ... NO\n",
      " => Don't know why this happens, but it happens only 140 times\n",
      "\n"
     ]
    }
   ],
   "source": [
    "# More Logic Check\n",
    "print( '1-1 relationship of claim_id ...', set(df_c.claim_id.unique()) == set(df_c_det.claim_id.unique()) )\n",
    "test( 'Sometimes, base info exists but there\\'s no detail info', df_c[~df_c.claim_id.isin(df_c_det.claim_id)] )\n",
    "test( 'Sometimes, detail info exists but there\\'s no base info', df_c_det[~df_c_det.claim_id.isin(df_c.claim_id)] )\n",
    "\n",
    "conclusion(f'Don\\'t know why this happens, but it happens only {df_c[~df_c.claim_id.isin(df_c_det.claim_id)].shape[0]} times')"
   ]
  },
  {
   "cell_type": "code",
   "execution_count": 11,
   "metadata": {},
   "outputs": [
    {
     "name": "stdout",
     "output_type": "stream",
     "text": [
      "       recv_user_id                      \n",
      "status        CHECK      CLAIM       SEND\n",
      "min        0.000000   0.000000   0.000000\n",
      "mean       0.931809   1.607196   0.966999\n",
      "max        1.000000  44.000000  35.000000\n",
      " => 평균 3.5명이 더치페이를 하는데, 주최자 제외 1명 정도가 더치페이에 응한다\n",
      "\n",
      "count    241283.000000\n",
      "mean          2.311162\n",
      "std           3.641488\n",
      "min           1.000000\n",
      "0%            1.000000\n",
      "50%           1.000000\n",
      "70%           2.000000\n",
      "90%           5.000000\n",
      "max         157.000000\n",
      "Name: record per recv_user_id, dtype: float64\n",
      "2019-12-01 00:01:09 ... 2020-02-29 23:59:59\n"
     ]
    },
    {
     "data": {
      "text/plain": [
       "<AxesSubplot:>"
      ]
     },
     "execution_count": 11,
     "metadata": {},
     "output_type": "execute_result"
    },
    {
     "data": {
      "image/png": "[encoded data removed]",
      "text/plain": [
       "<Figure size 432x288 with 1 Axes>"
      ]
     },
     "metadata": {
      "needs_background": "light"
     },
     "output_type": "display_data"
    }
   ],
   "source": [
    "# Distribution Check\n",
    "df = df_all\n",
    "df_pivot = df.pivot( index=['claim_id','claim_detail_id'], columns='status', values=['recv_user_id'])\n",
    "print( df_pivot.groupby(level=0).count().describe().loc()[['min','mean','max']] )\n",
    "conclusion('평균 3.5명이 더치페이를 하는데, 주최자 제외 1명 정도가 더치페이에 응한다')\n",
    "\n",
    "print( df.groupby('recv_user_id')['claim_detail_id'].count().rename('record per recv_user_id').describe(percentiles=[0,0.5,0.7,0.9])) \n",
    "print( df.claim_at.min(), '...', df.claim_at.max() )\n",
    "df.groupby('recv_user_id')['claim_detail_id'].count().hist(log=True, bins=100)"
   ]
  },
  {
   "cell_type": "markdown",
   "metadata": {},
   "source": [
    "더치페이 신규 사용자가 너무 많기 때문에 더치페이의 홍보 효과가 실제로는 큰데도 상대적으로 묻힐 수 있어 유의해야 한다."
   ]
  }
 ],
 "metadata": {
  "kernelspec": {
   "display_name": "Python 3",
   "language": "python",
   "name": "python3"
  },
  "language_info": {
   "codemirror_mode": {
    "name": "ipython",
    "version": 3
   },
   "file_extension": ".py",
   "mimetype": "text/x-python",
   "name": "python",
   "nbconvert_exporter": "python",
   "pygments_lexer": "ipython3",
   "version": "3.8.6"
  }
 },
 "nbformat": 4,
 "nbformat_minor": 4
}
